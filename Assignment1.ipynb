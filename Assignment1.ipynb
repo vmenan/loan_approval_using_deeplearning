{
  "nbformat": 4,
  "nbformat_minor": 0,
  "metadata": {
    "colab": {
      "name": "Assignment1.ipynb",
      "provenance": [],
      "collapsed_sections": []
    },
    "kernelspec": {
      "name": "python3",
      "display_name": "Python 3"
    },
    "language_info": {
      "name": "python"
    }
  },
  "cells": [
    {
      "cell_type": "code",
      "execution_count": 276,
      "metadata": {
        "id": "Wdvu8vZl2dtB"
      },
      "outputs": [],
      "source": [
        "#Importing the required libraries\n",
        "import numpy as np\n",
        "import pandas as pd\n",
        "\n",
        "import tensorflow as tf\n",
        "from tensorflow import feature_column\n",
        "from tensorflow.keras import layers\n",
        "from tensorflow.keras.models import Sequential\n",
        "from tensorflow.keras.layers import Dense , Activation\n",
        "from tensorflow.keras import regularizers\n",
        "\n",
        "from sklearn.model_selection import train_test_split\n",
        "from sklearn.preprocessing import LabelEncoder\n",
        "from sklearn.model_selection import KFold\n",
        "from sklearn.metrics import f1_score\n",
        "from sklearn.model_selection import StratifiedKFold"
      ]
    },
    {
      "cell_type": "markdown",
      "source": [
        "# EDA \n",
        "In this section we will do EDA and do the nessacary preprocessing. Main thing we\n",
        "will be concerned will be missing values, we will take care of them, and also check whether the target has balanced classes"
      ],
      "metadata": {
        "id": "WoDGbjgSo-J_"
      }
    },
    {
      "cell_type": "code",
      "source": [
        "#loading data\n",
        "#column name data not given hence header=None\n",
        "df = pd.read_csv('/content/sample_data/crx.data',header=None)"
      ],
      "metadata": {
        "id": "LzYEykHJ2pXB"
      },
      "execution_count": 250,
      "outputs": []
    },
    {
      "cell_type": "code",
      "source": [
        "df.columns = \"Gender, Age, Debt, Married, BankCustomer, EducationLevel, Ethnicity, YearsEmployed, PriorDefault, Employed, CreditScore, DriversLicense, Citizen, ZipCode, Income, ApprovalStatus\".split(', ')"
      ],
      "metadata": {
        "id": "rhS7KNz2PTJy"
      },
      "execution_count": 251,
      "outputs": []
    },
    {
      "cell_type": "code",
      "source": [
        "df.head()"
      ],
      "metadata": {
        "colab": {
          "base_uri": "https://localhost:8080/",
          "height": 250
        },
        "id": "PBaonxrG6Bm4",
        "outputId": "bbfb4dbd-1af4-434d-c63c-0645fe4d73a2"
      },
      "execution_count": 252,
      "outputs": [
        {
          "output_type": "execute_result",
          "data": {
            "text/plain": [
              "  Gender    Age   Debt Married BankCustomer EducationLevel Ethnicity  \\\n",
              "0      b  30.83  0.000       u            g              w         v   \n",
              "1      a  58.67  4.460       u            g              q         h   \n",
              "2      a  24.50  0.500       u            g              q         h   \n",
              "3      b  27.83  1.540       u            g              w         v   \n",
              "4      b  20.17  5.625       u            g              w         v   \n",
              "\n",
              "   YearsEmployed PriorDefault Employed  CreditScore DriversLicense Citizen  \\\n",
              "0           1.25            t        t            1              f       g   \n",
              "1           3.04            t        t            6              f       g   \n",
              "2           1.50            t        f            0              f       g   \n",
              "3           3.75            t        t            5              t       g   \n",
              "4           1.71            t        f            0              f       s   \n",
              "\n",
              "  ZipCode  Income ApprovalStatus  \n",
              "0   00202       0              +  \n",
              "1   00043     560              +  \n",
              "2   00280     824              +  \n",
              "3   00100       3              +  \n",
              "4   00120       0              +  "
            ],
            "text/html": [
              "\n",
              "  <div id=\"df-eff50c53-49bb-4d9b-ba5b-78a77a249646\">\n",
              "    <div class=\"colab-df-container\">\n",
              "      <div>\n",
              "<style scoped>\n",
              "    .dataframe tbody tr th:only-of-type {\n",
              "        vertical-align: middle;\n",
              "    }\n",
              "\n",
              "    .dataframe tbody tr th {\n",
              "        vertical-align: top;\n",
              "    }\n",
              "\n",
              "    .dataframe thead th {\n",
              "        text-align: right;\n",
              "    }\n",
              "</style>\n",
              "<table border=\"1\" class=\"dataframe\">\n",
              "  <thead>\n",
              "    <tr style=\"text-align: right;\">\n",
              "      <th></th>\n",
              "      <th>Gender</th>\n",
              "      <th>Age</th>\n",
              "      <th>Debt</th>\n",
              "      <th>Married</th>\n",
              "      <th>BankCustomer</th>\n",
              "      <th>EducationLevel</th>\n",
              "      <th>Ethnicity</th>\n",
              "      <th>YearsEmployed</th>\n",
              "      <th>PriorDefault</th>\n",
              "      <th>Employed</th>\n",
              "      <th>CreditScore</th>\n",
              "      <th>DriversLicense</th>\n",
              "      <th>Citizen</th>\n",
              "      <th>ZipCode</th>\n",
              "      <th>Income</th>\n",
              "      <th>ApprovalStatus</th>\n",
              "    </tr>\n",
              "  </thead>\n",
              "  <tbody>\n",
              "    <tr>\n",
              "      <th>0</th>\n",
              "      <td>b</td>\n",
              "      <td>30.83</td>\n",
              "      <td>0.000</td>\n",
              "      <td>u</td>\n",
              "      <td>g</td>\n",
              "      <td>w</td>\n",
              "      <td>v</td>\n",
              "      <td>1.25</td>\n",
              "      <td>t</td>\n",
              "      <td>t</td>\n",
              "      <td>1</td>\n",
              "      <td>f</td>\n",
              "      <td>g</td>\n",
              "      <td>00202</td>\n",
              "      <td>0</td>\n",
              "      <td>+</td>\n",
              "    </tr>\n",
              "    <tr>\n",
              "      <th>1</th>\n",
              "      <td>a</td>\n",
              "      <td>58.67</td>\n",
              "      <td>4.460</td>\n",
              "      <td>u</td>\n",
              "      <td>g</td>\n",
              "      <td>q</td>\n",
              "      <td>h</td>\n",
              "      <td>3.04</td>\n",
              "      <td>t</td>\n",
              "      <td>t</td>\n",
              "      <td>6</td>\n",
              "      <td>f</td>\n",
              "      <td>g</td>\n",
              "      <td>00043</td>\n",
              "      <td>560</td>\n",
              "      <td>+</td>\n",
              "    </tr>\n",
              "    <tr>\n",
              "      <th>2</th>\n",
              "      <td>a</td>\n",
              "      <td>24.50</td>\n",
              "      <td>0.500</td>\n",
              "      <td>u</td>\n",
              "      <td>g</td>\n",
              "      <td>q</td>\n",
              "      <td>h</td>\n",
              "      <td>1.50</td>\n",
              "      <td>t</td>\n",
              "      <td>f</td>\n",
              "      <td>0</td>\n",
              "      <td>f</td>\n",
              "      <td>g</td>\n",
              "      <td>00280</td>\n",
              "      <td>824</td>\n",
              "      <td>+</td>\n",
              "    </tr>\n",
              "    <tr>\n",
              "      <th>3</th>\n",
              "      <td>b</td>\n",
              "      <td>27.83</td>\n",
              "      <td>1.540</td>\n",
              "      <td>u</td>\n",
              "      <td>g</td>\n",
              "      <td>w</td>\n",
              "      <td>v</td>\n",
              "      <td>3.75</td>\n",
              "      <td>t</td>\n",
              "      <td>t</td>\n",
              "      <td>5</td>\n",
              "      <td>t</td>\n",
              "      <td>g</td>\n",
              "      <td>00100</td>\n",
              "      <td>3</td>\n",
              "      <td>+</td>\n",
              "    </tr>\n",
              "    <tr>\n",
              "      <th>4</th>\n",
              "      <td>b</td>\n",
              "      <td>20.17</td>\n",
              "      <td>5.625</td>\n",
              "      <td>u</td>\n",
              "      <td>g</td>\n",
              "      <td>w</td>\n",
              "      <td>v</td>\n",
              "      <td>1.71</td>\n",
              "      <td>t</td>\n",
              "      <td>f</td>\n",
              "      <td>0</td>\n",
              "      <td>f</td>\n",
              "      <td>s</td>\n",
              "      <td>00120</td>\n",
              "      <td>0</td>\n",
              "      <td>+</td>\n",
              "    </tr>\n",
              "  </tbody>\n",
              "</table>\n",
              "</div>\n",
              "      <button class=\"colab-df-convert\" onclick=\"convertToInteractive('df-eff50c53-49bb-4d9b-ba5b-78a77a249646')\"\n",
              "              title=\"Convert this dataframe to an interactive table.\"\n",
              "              style=\"display:none;\">\n",
              "        \n",
              "  <svg xmlns=\"http://www.w3.org/2000/svg\" height=\"24px\"viewBox=\"0 0 24 24\"\n",
              "       width=\"24px\">\n",
              "    <path d=\"M0 0h24v24H0V0z\" fill=\"none\"/>\n",
              "    <path d=\"M18.56 5.44l.94 2.06.94-2.06 2.06-.94-2.06-.94-.94-2.06-.94 2.06-2.06.94zm-11 1L8.5 8.5l.94-2.06 2.06-.94-2.06-.94L8.5 2.5l-.94 2.06-2.06.94zm10 10l.94 2.06.94-2.06 2.06-.94-2.06-.94-.94-2.06-.94 2.06-2.06.94z\"/><path d=\"M17.41 7.96l-1.37-1.37c-.4-.4-.92-.59-1.43-.59-.52 0-1.04.2-1.43.59L10.3 9.45l-7.72 7.72c-.78.78-.78 2.05 0 2.83L4 21.41c.39.39.9.59 1.41.59.51 0 1.02-.2 1.41-.59l7.78-7.78 2.81-2.81c.8-.78.8-2.07 0-2.86zM5.41 20L4 18.59l7.72-7.72 1.47 1.35L5.41 20z\"/>\n",
              "  </svg>\n",
              "      </button>\n",
              "      \n",
              "  <style>\n",
              "    .colab-df-container {\n",
              "      display:flex;\n",
              "      flex-wrap:wrap;\n",
              "      gap: 12px;\n",
              "    }\n",
              "\n",
              "    .colab-df-convert {\n",
              "      background-color: #E8F0FE;\n",
              "      border: none;\n",
              "      border-radius: 50%;\n",
              "      cursor: pointer;\n",
              "      display: none;\n",
              "      fill: #1967D2;\n",
              "      height: 32px;\n",
              "      padding: 0 0 0 0;\n",
              "      width: 32px;\n",
              "    }\n",
              "\n",
              "    .colab-df-convert:hover {\n",
              "      background-color: #E2EBFA;\n",
              "      box-shadow: 0px 1px 2px rgba(60, 64, 67, 0.3), 0px 1px 3px 1px rgba(60, 64, 67, 0.15);\n",
              "      fill: #174EA6;\n",
              "    }\n",
              "\n",
              "    [theme=dark] .colab-df-convert {\n",
              "      background-color: #3B4455;\n",
              "      fill: #D2E3FC;\n",
              "    }\n",
              "\n",
              "    [theme=dark] .colab-df-convert:hover {\n",
              "      background-color: #434B5C;\n",
              "      box-shadow: 0px 1px 3px 1px rgba(0, 0, 0, 0.15);\n",
              "      filter: drop-shadow(0px 1px 2px rgba(0, 0, 0, 0.3));\n",
              "      fill: #FFFFFF;\n",
              "    }\n",
              "  </style>\n",
              "\n",
              "      <script>\n",
              "        const buttonEl =\n",
              "          document.querySelector('#df-eff50c53-49bb-4d9b-ba5b-78a77a249646 button.colab-df-convert');\n",
              "        buttonEl.style.display =\n",
              "          google.colab.kernel.accessAllowed ? 'block' : 'none';\n",
              "\n",
              "        async function convertToInteractive(key) {\n",
              "          const element = document.querySelector('#df-eff50c53-49bb-4d9b-ba5b-78a77a249646');\n",
              "          const dataTable =\n",
              "            await google.colab.kernel.invokeFunction('convertToInteractive',\n",
              "                                                     [key], {});\n",
              "          if (!dataTable) return;\n",
              "\n",
              "          const docLinkHtml = 'Like what you see? Visit the ' +\n",
              "            '<a target=\"_blank\" href=https://colab.research.google.com/notebooks/data_table.ipynb>data table notebook</a>'\n",
              "            + ' to learn more about interactive tables.';\n",
              "          element.innerHTML = '';\n",
              "          dataTable['output_type'] = 'display_data';\n",
              "          await google.colab.output.renderOutput(dataTable, element);\n",
              "          const docLink = document.createElement('div');\n",
              "          docLink.innerHTML = docLinkHtml;\n",
              "          element.appendChild(docLink);\n",
              "        }\n",
              "      </script>\n",
              "    </div>\n",
              "  </div>\n",
              "  "
            ]
          },
          "metadata": {},
          "execution_count": 252
        }
      ]
    },
    {
      "cell_type": "code",
      "source": [
        "#getting summary statistics\n",
        "df.info()\n"
      ],
      "metadata": {
        "colab": {
          "base_uri": "https://localhost:8080/"
        },
        "id": "01Ix_b_c6Cqd",
        "outputId": "b7c7b056-1355-4e7c-d560-82700fd3045d"
      },
      "execution_count": 253,
      "outputs": [
        {
          "output_type": "stream",
          "name": "stdout",
          "text": [
            "<class 'pandas.core.frame.DataFrame'>\n",
            "RangeIndex: 690 entries, 0 to 689\n",
            "Data columns (total 16 columns):\n",
            " #   Column          Non-Null Count  Dtype  \n",
            "---  ------          --------------  -----  \n",
            " 0   Gender          690 non-null    object \n",
            " 1   Age             690 non-null    object \n",
            " 2   Debt            690 non-null    float64\n",
            " 3   Married         690 non-null    object \n",
            " 4   BankCustomer    690 non-null    object \n",
            " 5   EducationLevel  690 non-null    object \n",
            " 6   Ethnicity       690 non-null    object \n",
            " 7   YearsEmployed   690 non-null    float64\n",
            " 8   PriorDefault    690 non-null    object \n",
            " 9   Employed        690 non-null    object \n",
            " 10  CreditScore     690 non-null    int64  \n",
            " 11  DriversLicense  690 non-null    object \n",
            " 12  Citizen         690 non-null    object \n",
            " 13  ZipCode         690 non-null    object \n",
            " 14  Income          690 non-null    int64  \n",
            " 15  ApprovalStatus  690 non-null    object \n",
            "dtypes: float64(2), int64(2), object(12)\n",
            "memory usage: 86.4+ KB\n"
          ]
        }
      ]
    },
    {
      "cell_type": "code",
      "source": [
        "#missing values are marked as '?', now we shall convert it to np.nan\n",
        "df = df.replace('?',np.nan)"
      ],
      "metadata": {
        "id": "AV-b5Mty7TS9"
      },
      "execution_count": 254,
      "outputs": []
    },
    {
      "cell_type": "code",
      "source": [
        "#checking for missing values\n",
        "df.isnull().sum()"
      ],
      "metadata": {
        "colab": {
          "base_uri": "https://localhost:8080/"
        },
        "id": "9s9V-FTn8hC-",
        "outputId": "a11353f2-caa5-4b05-a1f4-3e880ab94892"
      },
      "execution_count": 255,
      "outputs": [
        {
          "output_type": "execute_result",
          "data": {
            "text/plain": [
              "Gender            12\n",
              "Age               12\n",
              "Debt               0\n",
              "Married            6\n",
              "BankCustomer       6\n",
              "EducationLevel     9\n",
              "Ethnicity          9\n",
              "YearsEmployed      0\n",
              "PriorDefault       0\n",
              "Employed           0\n",
              "CreditScore        0\n",
              "DriversLicense     0\n",
              "Citizen            0\n",
              "ZipCode           13\n",
              "Income             0\n",
              "ApprovalStatus     0\n",
              "dtype: int64"
            ]
          },
          "metadata": {},
          "execution_count": 255
        }
      ]
    },
    {
      "cell_type": "code",
      "source": [
        "#the good news is that the target doesnt have any missing values.\n",
        "#we will first impute the missing values of the mnumeric columns using the\n",
        "#the mean of the column\n",
        "df.fillna(df.mean(),inplace=True)"
      ],
      "metadata": {
        "colab": {
          "base_uri": "https://localhost:8080/"
        },
        "id": "DVbg8lTF8y8L",
        "outputId": "8af9434f-b07b-48f0-8c4f-d5202ad9ca00"
      },
      "execution_count": 256,
      "outputs": [
        {
          "output_type": "stream",
          "name": "stderr",
          "text": [
            "/usr/local/lib/python3.7/dist-packages/ipykernel_launcher.py:4: FutureWarning: Dropping of nuisance columns in DataFrame reductions (with 'numeric_only=None') is deprecated; in a future version this will raise TypeError.  Select only valid columns before calling the reduction.\n",
            "  after removing the cwd from sys.path.\n"
          ]
        }
      ]
    },
    {
      "cell_type": "code",
      "source": [
        "#checking for missing values\n",
        "df.isnull().sum()"
      ],
      "metadata": {
        "colab": {
          "base_uri": "https://localhost:8080/"
        },
        "id": "QF1FfOnM9Z7a",
        "outputId": "219d14e9-b619-4afc-a972-768517fe5e08"
      },
      "execution_count": 257,
      "outputs": [
        {
          "output_type": "execute_result",
          "data": {
            "text/plain": [
              "Gender            12\n",
              "Age               12\n",
              "Debt               0\n",
              "Married            6\n",
              "BankCustomer       6\n",
              "EducationLevel     9\n",
              "Ethnicity          9\n",
              "YearsEmployed      0\n",
              "PriorDefault       0\n",
              "Employed           0\n",
              "CreditScore        0\n",
              "DriversLicense     0\n",
              "Citizen            0\n",
              "ZipCode           13\n",
              "Income             0\n",
              "ApprovalStatus     0\n",
              "dtype: int64"
            ]
          },
          "metadata": {},
          "execution_count": 257
        }
      ]
    },
    {
      "cell_type": "code",
      "source": [
        "#checking the unique values in the columns which have missing values\n",
        "cols = ['Gender','Age','Married','BankCustomer','EducationLevel','Ethnicity','ZipCode']\n",
        "for col in cols:\n",
        "  print(df[col].value_counts())\n",
        "  print()"
      ],
      "metadata": {
        "colab": {
          "base_uri": "https://localhost:8080/"
        },
        "id": "xhE0wDZd-be2",
        "outputId": "c86c59b5-66fe-4c4c-a3f8-59c46deda224"
      },
      "execution_count": 258,
      "outputs": [
        {
          "output_type": "stream",
          "name": "stdout",
          "text": [
            "b    468\n",
            "a    210\n",
            "Name: Gender, dtype: int64\n",
            "\n",
            "22.67    9\n",
            "20.42    7\n",
            "24.50    6\n",
            "18.83    6\n",
            "25.00    6\n",
            "        ..\n",
            "48.25    1\n",
            "28.33    1\n",
            "18.75    1\n",
            "18.50    1\n",
            "36.42    1\n",
            "Name: Age, Length: 349, dtype: int64\n",
            "\n",
            "u    519\n",
            "y    163\n",
            "l      2\n",
            "Name: Married, dtype: int64\n",
            "\n",
            "g     519\n",
            "p     163\n",
            "gg      2\n",
            "Name: BankCustomer, dtype: int64\n",
            "\n",
            "c     137\n",
            "q      78\n",
            "w      64\n",
            "i      59\n",
            "aa     54\n",
            "ff     53\n",
            "k      51\n",
            "cc     41\n",
            "m      38\n",
            "x      38\n",
            "d      30\n",
            "e      25\n",
            "j      10\n",
            "r       3\n",
            "Name: EducationLevel, dtype: int64\n",
            "\n",
            "v     399\n",
            "h     138\n",
            "bb     59\n",
            "ff     57\n",
            "j       8\n",
            "z       8\n",
            "dd      6\n",
            "n       4\n",
            "o       2\n",
            "Name: Ethnicity, dtype: int64\n",
            "\n",
            "00000    132\n",
            "00120     35\n",
            "00200     35\n",
            "00160     34\n",
            "00100     30\n",
            "        ... \n",
            "00021      1\n",
            "00393      1\n",
            "00395      1\n",
            "00093      1\n",
            "00256      1\n",
            "Name: ZipCode, Length: 170, dtype: int64\n",
            "\n"
          ]
        }
      ]
    },
    {
      "cell_type": "code",
      "source": [
        "#casting column 1 to numeric\n",
        "df['Age'] = df['Age'].astype('float')\n",
        "df['Age'].dtype"
      ],
      "metadata": {
        "colab": {
          "base_uri": "https://localhost:8080/"
        },
        "id": "gpm7EiL__Uo5",
        "outputId": "25ad0bbc-c4a9-4f80-fa13-a2a2aabc268d"
      },
      "execution_count": 259,
      "outputs": [
        {
          "output_type": "execute_result",
          "data": {
            "text/plain": [
              "dtype('float64')"
            ]
          },
          "metadata": {},
          "execution_count": 259
        }
      ]
    },
    {
      "cell_type": "code",
      "source": [
        "df['Age'].fillna(df['Age'].mean(),inplace=True)\n",
        "#checking for missing values\n",
        "df.isnull().sum()"
      ],
      "metadata": {
        "colab": {
          "base_uri": "https://localhost:8080/"
        },
        "id": "QZpgRPGtEOHj",
        "outputId": "97f00824-ed14-4a6c-f0d7-b786961b96f3"
      },
      "execution_count": 260,
      "outputs": [
        {
          "output_type": "execute_result",
          "data": {
            "text/plain": [
              "Gender            12\n",
              "Age                0\n",
              "Debt               0\n",
              "Married            6\n",
              "BankCustomer       6\n",
              "EducationLevel     9\n",
              "Ethnicity          9\n",
              "YearsEmployed      0\n",
              "PriorDefault       0\n",
              "Employed           0\n",
              "CreditScore        0\n",
              "DriversLicense     0\n",
              "Citizen            0\n",
              "ZipCode           13\n",
              "Income             0\n",
              "ApprovalStatus     0\n",
              "dtype: int64"
            ]
          },
          "metadata": {},
          "execution_count": 260
        }
      ]
    },
    {
      "cell_type": "code",
      "source": [
        "#we still see missing values in catergorical variables\n",
        "#we will impute them now\n",
        "for col in df.columns:\n",
        "  #checking if the column is object type\n",
        "  if df[col].dtype == 'object':\n",
        "    df= df.fillna(df[col].value_counts().index[0])\n",
        "#checking for missing values\n",
        "df.isnull().sum()"
      ],
      "metadata": {
        "colab": {
          "base_uri": "https://localhost:8080/"
        },
        "id": "vz4hqffs9cnF",
        "outputId": "58d34846-3e80-4c7f-ef7b-e9a21c465f57"
      },
      "execution_count": 261,
      "outputs": [
        {
          "output_type": "execute_result",
          "data": {
            "text/plain": [
              "Gender            0\n",
              "Age               0\n",
              "Debt              0\n",
              "Married           0\n",
              "BankCustomer      0\n",
              "EducationLevel    0\n",
              "Ethnicity         0\n",
              "YearsEmployed     0\n",
              "PriorDefault      0\n",
              "Employed          0\n",
              "CreditScore       0\n",
              "DriversLicense    0\n",
              "Citizen           0\n",
              "ZipCode           0\n",
              "Income            0\n",
              "ApprovalStatus    0\n",
              "dtype: int64"
            ]
          },
          "metadata": {},
          "execution_count": 261
        }
      ]
    },
    {
      "cell_type": "code",
      "source": [
        "#now we map the target attributes \"+\" -> 1 and \"-\" -> 0\n",
        "mapper = {'+':1,\n",
        "          '-':0}\n",
        "df[\"ApprovalStatus\"] = df[\"ApprovalStatus\"].apply(lambda x:mapper[x])\n",
        "print(df[\"ApprovalStatus\"].dtype)"
      ],
      "metadata": {
        "colab": {
          "base_uri": "https://localhost:8080/"
        },
        "id": "0f9YlTBhErAr",
        "outputId": "d50203ee-1493-4984-f879-0af375052fe8"
      },
      "execution_count": 262,
      "outputs": [
        {
          "output_type": "stream",
          "name": "stdout",
          "text": [
            "int64\n"
          ]
        }
      ]
    },
    {
      "cell_type": "code",
      "source": [
        "#we are going to drop columns 11 and 13 which are zipcode and driverslicense\n",
        "df = df.drop([\"ZipCode\"],axis=1)"
      ],
      "metadata": {
        "id": "_6GT59BUFReS"
      },
      "execution_count": 263,
      "outputs": []
    },
    {
      "cell_type": "code",
      "source": [
        "#now we check the split of the target\n",
        "df[\"ApprovalStatus\"].value_counts()\n",
        "#there seems to be only 83 difference, which is not that significant"
      ],
      "metadata": {
        "colab": {
          "base_uri": "https://localhost:8080/"
        },
        "id": "K1NStZGPGImQ",
        "outputId": "d2cf7430-c727-4c18-91c5-7ad830f43832"
      },
      "execution_count": 264,
      "outputs": [
        {
          "output_type": "execute_result",
          "data": {
            "text/plain": [
              "0    383\n",
              "1    307\n",
              "Name: ApprovalStatus, dtype: int64"
            ]
          },
          "metadata": {},
          "execution_count": 264
        }
      ]
    },
    {
      "cell_type": "code",
      "source": [
        "#creating dummy variable for the categorical fields\n",
        "features = list(df.columns)[0:-1]\n",
        "print(features)\n",
        "for col in features:\n",
        "  #checking if the column is object type\n",
        "  if df[col].dtype == 'object':\n",
        "    print(col)\n",
        "    df = pd.concat([df,pd.get_dummies(df[col],prefix=col)],axis=1)\n",
        "    df.drop(col,axis=1,inplace=True)\n",
        "df.columns"
      ],
      "metadata": {
        "colab": {
          "base_uri": "https://localhost:8080/"
        },
        "id": "OzIKJgIjRtWv",
        "outputId": "b1b34917-74c2-43a5-ad35-15020add7fd2"
      },
      "execution_count": 265,
      "outputs": [
        {
          "output_type": "stream",
          "name": "stdout",
          "text": [
            "['Gender', 'Age', 'Debt', 'Married', 'BankCustomer', 'EducationLevel', 'Ethnicity', 'YearsEmployed', 'PriorDefault', 'Employed', 'CreditScore', 'DriversLicense', 'Citizen', 'Income']\n",
            "Gender\n",
            "Married\n",
            "BankCustomer\n",
            "EducationLevel\n",
            "Ethnicity\n",
            "PriorDefault\n",
            "Employed\n",
            "DriversLicense\n",
            "Citizen\n"
          ]
        },
        {
          "output_type": "execute_result",
          "data": {
            "text/plain": [
              "Index(['Age', 'Debt', 'YearsEmployed', 'CreditScore', 'Income',\n",
              "       'ApprovalStatus', 'Gender_a', 'Gender_b', 'Married_b', 'Married_l',\n",
              "       'Married_u', 'Married_y', 'BankCustomer_b', 'BankCustomer_g',\n",
              "       'BankCustomer_gg', 'BankCustomer_p', 'EducationLevel_aa',\n",
              "       'EducationLevel_b', 'EducationLevel_c', 'EducationLevel_cc',\n",
              "       'EducationLevel_d', 'EducationLevel_e', 'EducationLevel_ff',\n",
              "       'EducationLevel_i', 'EducationLevel_j', 'EducationLevel_k',\n",
              "       'EducationLevel_m', 'EducationLevel_q', 'EducationLevel_r',\n",
              "       'EducationLevel_w', 'EducationLevel_x', 'Ethnicity_b', 'Ethnicity_bb',\n",
              "       'Ethnicity_dd', 'Ethnicity_ff', 'Ethnicity_h', 'Ethnicity_j',\n",
              "       'Ethnicity_n', 'Ethnicity_o', 'Ethnicity_v', 'Ethnicity_z',\n",
              "       'PriorDefault_f', 'PriorDefault_t', 'Employed_f', 'Employed_t',\n",
              "       'DriversLicense_f', 'DriversLicense_t', 'Citizen_g', 'Citizen_p',\n",
              "       'Citizen_s'],\n",
              "      dtype='object')"
            ]
          },
          "metadata": {},
          "execution_count": 265
        }
      ]
    },
    {
      "cell_type": "code",
      "source": [
        "#now we seperate the features from the target\n",
        "x_features = list(df.columns)\n",
        "x_features.remove('ApprovalStatus')\n",
        "X = df[x_features].values\n",
        "y = df['ApprovalStatus']\n",
        "# encode class values as integers\n",
        "encoder = LabelEncoder()\n",
        "encoder.fit(y)\n",
        "encoded_Y = encoder.transform(y)"
      ],
      "metadata": {
        "id": "zoS9lsz2VETZ"
      },
      "execution_count": 266,
      "outputs": []
    },
    {
      "cell_type": "markdown",
      "source": [
        "# Experimentation(Question 2)\n",
        "\n",
        "*   In this Experimentation we will create 4 models according to our literature review.\n",
        "*   The metric we will use for selecting the best model is F1-score.\n",
        "*   This is not a imbalanced dataset so accuracy will also do\n",
        "*   We will do a 5 fold cross validation for each model and this will be done 30 times to get the mean of the F1-score\n",
        "\n"
      ],
      "metadata": {
        "id": "6Y36U6EE1Fzm"
      }
    },
    {
      "cell_type": "code",
      "source": [
        "#-------------------------------------------------------------------------------------------------------#\n",
        "#model 0\n",
        "model_0 = Sequential()\n",
        "model_0.add(Dense(60,input_dim=X.shape[1],activation='tanh',kernel_initializer='random_normal'))\n",
        "model_0.add(Dense(5,activation='tanh',kernel_initializer='random_normal'))\n",
        "model_0.add(Dense(1,activation='sigmoid',kernel_initializer='random_normal'))\n",
        "model_0.compile(loss='binary_crossentropy',\n",
        "                optimizer=tf.keras.optimizers.Adam(),\n",
        "                metrics=['accuracy']\n",
        "                )\n",
        "#-------------------------------------------------------------------------------------------------------#\n",
        "#model 1\n",
        "model_1 = Sequential()\n",
        "model_1.add(Dense(25,input_dim=X.shape[1],activation='tanh',kernel_initializer='random_normal'))\n",
        "model_1.add(Dense(1,activation=None,kernel_initializer='random_normal'))\n",
        "model_1.compile(loss=tf.keras.losses.BinaryCrossentropy(from_logits=True),\n",
        "                optimizer=tf.keras.optimizers.Adam(),\n",
        "                metrics=['accuracy']\n",
        "                )\n",
        "#-------------------------------------------------------------------------------------------------------#\n",
        "#model 2\n",
        "model_2 = Sequential()\n",
        "model_2.add(Dense(28,input_dim=X.shape[1],activation='relu',kernel_initializer='random_normal'))\n",
        "model_2.add(Dense(1,activation=None,kernel_initializer='random_normal'))\n",
        "model_2.compile(loss=tf.keras.losses.BinaryCrossentropy(from_logits=True),\n",
        "                optimizer=tf.keras.optimizers.Adam(),\n",
        "                metrics=['accuracy']\n",
        "                )\n",
        "#-------------------------------------------------------------------------------------------------------#\n",
        "#model 3\n",
        "model_3 = Sequential()\n",
        "model_3.add(Dense(22,input_dim=X.shape[1],activation='relu',kernel_initializer='random_normal'))\n",
        "model_3.add(Dense(1,activation='sigmoid',kernel_initializer='random_normal'))\n",
        "model_3.compile(loss=tf.keras.losses.MeanSquaredError(),\n",
        "                optimizer=tf.keras.optimizers.Adam(),\n",
        "                metrics=['accuracy']\n",
        "                )\n",
        "\n",
        "models = [model_0,model_1,model_2,model_3]"
      ],
      "metadata": {
        "id": "Fd-nQQxvYLj4"
      },
      "execution_count": 267,
      "outputs": []
    },
    {
      "cell_type": "code",
      "source": [
        "n_split=5\n",
        "for num,model in enumerate(models):\n",
        "  f1_score_ls_means = []\n",
        "  for i in range(30):\n",
        "    f1_score_ls = []\n",
        "    for train_index,test_index in KFold(n_split,shuffle=True,random_state=7).split(X):\n",
        "      tf.keras.backend.clear_session()\n",
        "      x_train,x_test=X[train_index],X[test_index]\n",
        "      y_train,y_test=y[train_index],y[test_index]\n",
        "      # print(x_train.shape)\n",
        "      model.fit(x_train, y_train,epochs=20,verbose=0)\n",
        "      predictions = (model.predict(x_test) > 0.5).astype(\"int32\").ravel()\n",
        "      f1_score_ls.append(f1_score(y_test, predictions))\n",
        "    f1_score_ls_means.append(sum(f1_score_ls)/len(f1_score_ls))\n",
        "  print(f\"Average F1-Score of Model_{num}: \",sum(f1_score_ls_means)/len(f1_score_ls_means))"
      ],
      "metadata": {
        "colab": {
          "base_uri": "https://localhost:8080/"
        },
        "id": "L5UEYaQnYLco",
        "outputId": "e56bb37b-8fa8-4b4a-a51f-7aa7e90f88c7"
      },
      "execution_count": 268,
      "outputs": [
        {
          "output_type": "stream",
          "name": "stdout",
          "text": [
            "Average F1-Score of Model_0:  0.9532627359795771\n",
            "Average F1-Score of Model_1:  0.9411191392177825\n",
            "Average F1-Score of Model_2:  0.9174357619138604\n",
            "Average F1-Score of Model_3:  0.9072997772273168\n"
          ]
        }
      ]
    },
    {
      "cell_type": "markdown",
      "source": [
        "# Regularization (Question 4)\n",
        "*   It seems like Model_0 is the best model out of the four models\n",
        "*   We will use Model_0 for the rest of the experimentation on L1 and L2 regularization\n",
        "*   We will select lambda to vary from 0.01 to 0.05\n",
        "\n"
      ],
      "metadata": {
        "id": "xvxXqK2Dgnlg"
      }
    },
    {
      "cell_type": "markdown",
      "source": [
        "Model 0 is will now be updated with a kernel regularizer"
      ],
      "metadata": {
        "id": "DKhPiw9shVuw"
      }
    },
    {
      "cell_type": "code",
      "source": [
        "regularizers_ls = [regularizers.L1,regularizers.L2]\n",
        "lambda_values = [0.00001,0.0001,0.0002,0.0003,0.0004,0.0005]\n",
        "for norm,regularizer in enumerate(regularizers_ls):\n",
        "  for lambda_value in lambda_values:\n",
        "    #model 0\n",
        "    model_0 = Sequential()\n",
        "    model_0.add(Dense(60,input_dim=X.shape[1],activation='tanh',kernel_initializer='random_normal',kernel_regularizer=regularizer(lambda_value)))\n",
        "    model_0.add(Dense(5,activation='tanh',kernel_initializer='random_normal',kernel_regularizer=regularizer(lambda_value)))\n",
        "    model_0.add(Dense(1,activation='sigmoid',kernel_initializer='random_normal'))\n",
        "    model_0.compile(loss='binary_crossentropy',\n",
        "                    optimizer=tf.keras.optimizers.Adam(),\n",
        "                    metrics=['accuracy']\n",
        "                    )\n",
        "    n_split=5\n",
        "    f1_score_ls_means = []\n",
        "    for i in range(15):\n",
        "      f1_score_ls = []\n",
        "      for train_index,test_index in KFold(n_split,shuffle=True,random_state=7).split(X):\n",
        "        tf.keras.backend.clear_session()\n",
        "        x_train,x_test=X[train_index],X[test_index]\n",
        "        y_train,y_test=y[train_index],y[test_index]\n",
        "        # print(x_train.shape)\n",
        "        model_0.fit(x_train, y_train,epochs=20,verbose=0)\n",
        "        predictions = (model_0.predict(x_test) > 0.5).astype(\"int32\").ravel()\n",
        "        f1_score_ls.append(f1_score(y_test, predictions))\n",
        "      f1_score_ls_means.append(sum(f1_score_ls)/len(f1_score_ls))\n",
        "    print(f\"Average F1-Score of Model_0 with L{norm+1} and lambda {lambda_value}: \",sum(f1_score_ls_means)/len(f1_score_ls_means))"
      ],
      "metadata": {
        "colab": {
          "base_uri": "https://localhost:8080/"
        },
        "id": "YCQIRnKrheoe",
        "outputId": "70bfb46a-7616-4036-d674-d6e959fefddb"
      },
      "execution_count": 280,
      "outputs": [
        {
          "output_type": "stream",
          "name": "stdout",
          "text": [
            "Average F1-Score of Model_0 with L1 and lambda 1e-05:  0.9381757800722663\n",
            "Average F1-Score of Model_0 with L1 and lambda 0.0001:  0.9264472359397449\n",
            "Average F1-Score of Model_0 with L1 and lambda 0.0002:  0.9184415366897226\n",
            "Average F1-Score of Model_0 with L1 and lambda 0.0003:  0.9198266231855766\n",
            "Average F1-Score of Model_0 with L1 and lambda 0.0004:  0.9111218298864903\n",
            "Average F1-Score of Model_0 with L1 and lambda 0.0005:  0.9080478485857164\n",
            "Average F1-Score of Model_0 with L2 and lambda 1e-05:  0.9384078893274441\n",
            "Average F1-Score of Model_0 with L2 and lambda 0.0001:  0.933451622805573\n",
            "Average F1-Score of Model_0 with L2 and lambda 0.0002:  0.9366901571213432\n",
            "Average F1-Score of Model_0 with L2 and lambda 0.0003:  0.9252603673623468\n",
            "Average F1-Score of Model_0 with L2 and lambda 0.0004:  0.9248649476903492\n",
            "Average F1-Score of Model_0 with L2 and lambda 0.0005:  0.9184443293338579\n"
          ]
        }
      ]
    },
    {
      "cell_type": "code",
      "source": [
        ""
      ],
      "metadata": {
        "id": "sfCuhOPaj4Rr"
      },
      "execution_count": null,
      "outputs": []
    }
  ]
}